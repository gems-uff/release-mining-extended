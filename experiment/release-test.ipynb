{
 "cells": [
  {
   "cell_type": "code",
   "execution_count": 1,
   "id": "69d14d10-c448-4d08-8c02-37bba8ac79cb",
   "metadata": {},
   "outputs": [],
   "source": [
    "import pandas as pd"
   ]
  },
  {
   "cell_type": "code",
   "execution_count": 2,
   "id": "7a29beab-0b2d-4481-a03e-06d9a5291e1d",
   "metadata": {},
   "outputs": [],
   "source": [
    "releases = pd.read_pickle('../data/releases.zip')"
   ]
  },
  {
   "cell_type": "markdown",
   "id": "455bdaa9-6f1d-4512-818a-0cb5b675abbe",
   "metadata": {},
   "source": [
    "electron \n",
    "v6.0.0 - resolvido\n",
    "v0.15.5 - resolvido\n",
    "v0.32.0 - resolvido\n",
    "\n",
    "elastic\n",
    "v5.4.0 - resolvido\n",
    "\n",
    "vercel/next.js\n",
    "3.0.2 - resolvido\n",
    "\n",
    "laravel/laravel\n",
    "v3.2.5 - resolvido\n",
    "v5.3.0 - resolvido\n",
    "\n",
    "microsoft/TypeScript\n",
    "v2.6.0 - resolvido\n",
    "v2.1.4 - resolvido\n",
    "v3.2.1 - resolvido\n",
    "\n",
    "MaterialDesignInXAML/MaterialDesignInXamlToolkit\n",
    "v1.5.0 - resolvido"
   ]
  },
  {
   "cell_type": "code",
   "execution_count": 91,
   "id": "0335b10a-2b7f-46f6-92b4-3cc27bbc16b8",
   "metadata": {},
   "outputs": [
    {
     "data": {
      "text/plain": [
       "version                                                         3.2.1\n",
       "semantic_version                                                3.2.1\n",
       "prefix                                                              v\n",
       "suffix                                                           None\n",
       "lang                                                       typescript\n",
       "head                         9aae7a668e68d987d1159cc808b679c1f742b3b4\n",
       "time                                        2018-11-29 17:10:50+00:00\n",
       "cycle                                                27 days 20:16:05\n",
       "committers                                                         37\n",
       "commits                                                           675\n",
       "merges                                                            147\n",
       "base_releases                                        [v3.1.1, v3.0.0]\n",
       "base_releases_qnt                                                   2\n",
       "range_commits                                                     675\n",
       "range_base_releases                                          [v3.1.6]\n",
       "range_tpos                                                        675\n",
       "range_fpos                                                          0\n",
       "range_fneg                                                          0\n",
       "time_commits                                                      245\n",
       "time_base_releases                                           [v3.1.6]\n",
       "time_tpos                                                         245\n",
       "time_fpos                                                           0\n",
       "time_fneg                                                         430\n",
       "time_naive_commits                                                321\n",
       "time_naive_base_releases                                     [v3.1.6]\n",
       "time_naive_tpos                                                   245\n",
       "time_naive_fpos                                                    76\n",
       "time_naive_fneg                                                   430\n",
       "time_expert_commits                                              2380\n",
       "time_expert_base_releases                                    [v3.1.6]\n",
       "time_expert_tpos                                                  675\n",
       "time_expert_fpos                                                 1705\n",
       "time_expert_fneg                                                    0\n",
       "range_precision                                                   1.0\n",
       "range_recall                                                      1.0\n",
       "range_fmeasure                                                    1.0\n",
       "time_precision                                                    1.0\n",
       "time_recall                                                  0.362963\n",
       "time_fmeasure                                                0.532609\n",
       "time_naive_precision                                          0.76324\n",
       "time_naive_recall                                            0.362963\n",
       "time_naive_fmeasure                                          0.491968\n",
       "time_expert_precision                                        0.283613\n",
       "time_expert_recall                                                1.0\n",
       "time_expert_fmeasure                                         0.441899\n",
       "cycle_sec                                                   2405765.0\n",
       "Name: (microsoft/TypeScript, v3.2.1), dtype: object"
      ]
     },
     "execution_count": 91,
     "metadata": {},
     "output_type": "execute_result"
    }
   ],
   "source": [
    "releases.loc[('microsoft/TypeScript', 'v3.2.1')]"
   ]
  }
 ],
 "metadata": {
  "kernelspec": {
   "display_name": "Python 3 (ipykernel)",
   "language": "python",
   "name": "python3"
  },
  "language_info": {
   "codemirror_mode": {
    "name": "ipython",
    "version": 3
   },
   "file_extension": ".py",
   "mimetype": "text/x-python",
   "name": "python",
   "nbconvert_exporter": "python",
   "pygments_lexer": "ipython3",
   "version": "3.9.13"
  }
 },
 "nbformat": 4,
 "nbformat_minor": 5
}
