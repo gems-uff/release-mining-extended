{
 "cells": [
  {
   "cell_type": "markdown",
   "id": "b6ab6b22-53ce-417a-b0ee-7933702b5823",
   "metadata": {},
   "source": [
    "# Evaluate baseline"
   ]
  },
  {
   "cell_type": "code",
   "execution_count": 49,
   "id": "e331baf7-47c6-4f88-860e-f71a7deac76a",
   "metadata": {},
   "outputs": [],
   "source": [
    "import pandas as pd"
   ]
  },
  {
   "cell_type": "code",
   "execution_count": 50,
   "id": "918fe855-c18c-4074-b11e-e4b06bea6308",
   "metadata": {},
   "outputs": [],
   "source": [
    "baseline_tests = {\n",
    "    'tmux/tmux': [\n",
    "        '2.4', '2.6', '1.2', '1.0', '1.5', '0.8', '2.3', '1.1', '3.0', '1.3'\n",
    "    ], \n",
    "    'MaterialDesignInXAML/MaterialDesignInXamlToolkit': [\n",
    "        'v2.3.0', 'v3.2.0', 'v3.0.0', 'v2.1.0', 'v2.2.0', '2.6.0', '3.1.1', 'v1.5.0', 'v3.1.3', 'v2.0.0'\n",
    "    ],\n",
    "    'electron/electron': [\n",
    "        'v0.10.4', 'v6.0.0', 'v4.0.5', 'v4.2.0', 'v0.15.5', 'v8.0.3', 'v1.6.2', 'v0.32.0', 'v0.11.7', 'v0.20.2'\n",
    "    ],\n",
    "    'v2ray/v2ray-core': [\n",
    "        'v0.14.1', 'v2.19', 'v4.20.0', 'v0.13', 'v1.14', 'v4.16.1', 'v3.30', 'v2.20', 'v0.6.1', 'v2.16.4'\n",
    "    ],\n",
    "    'elastic/elasticsearch': [ \n",
    "        'v0.90.9', 'v0.90.6', 'v5.4.2', 'v1.4.4', 'v5.4.0', 'v1.4.5', 'v7.6.2', 'v0.90.3', 'v7.9.1', 'v5.4.1'\n",
    "    ],\n",
    "    'vercel/next.js': [ \n",
    "        '3.0.2', '3.2.3', 'v8.0.4', '2.4.4', 'v9.3.0', '1.1.1', '2.2.0', '1.1.2', '2.1.1', '4.1.2'\n",
    "    ],\n",
    "    'laravel/laravel': [\n",
    "        'v5.6.21', 'v5.4.23', 'v3.2.5', 'v4.0.5', 'v6.2.0', 'v3.0.4', 'v5.1.1', 'v5.4.3', 'v5.2.27', 'v5.3.0'\n",
    "    ],\n",
    "    'XX-net/XX-Net': [\n",
    "        '3.6.3', '1.3.6', '3.11.9', '3.8.2', '3.10.8', '3.8.0', '1.13.6', '4.3.0', '3.6.9', '3.14.2'\n",
    "    ],\n",
    "    'CocoaPods/CocoaPods': [\n",
    "        '0.22.3', '1.7.5', '0.3.0', '0.3.1', '0.0.7', '1.7.1', '0.38.2', '0.5.0', '0.16.0', '0.35.0'\n",
    "    ],\n",
    "    'microsoft/TypeScript': [ \n",
    "        'v2.6.0', 'v2.1.4', 'v2.4.1', 'v2.1.5', 'v2.5.3', 'v3.7.4', 'v2.7.2', 'v2.7.1', 'v1.8.7', 'v3.2.1'\n",
    "    ]\n",
    "}"
   ]
  },
  {
   "cell_type": "code",
   "execution_count": 51,
   "id": "5149769f-369f-4790-b0f7-3661cc558ac4",
   "metadata": {},
   "outputs": [
    {
     "name": "stdout",
     "output_type": "stream",
     "text": [
      "tmux/tmux 0.8, 1.0, 1.1, 1.2, 1.3, 1.5, 2.3, 2.4, 2.6, 3.0\n",
      "MaterialDesignInXAML/MaterialDesignInXamlToolkit 2.6.0, 3.1.1, v1.5.0, v2.0.0, v2.1.0, v2.2.0, v2.3.0, v3.0.0, v3.1.3, v3.2.0\n",
      "electron/electron v0.10.4, v0.11.7, v0.15.5, v0.20.2, v0.32.0, v1.6.2, v4.0.5, v4.2.0, v6.0.0, v8.0.3\n",
      "v2ray/v2ray-core v0.13, v0.14.1, v0.6.1, v1.14, v2.16.4, v2.19, v2.20, v3.30, v4.16.1, v4.20.0\n",
      "elastic/elasticsearch v0.90.3, v0.90.6, v0.90.9, v1.4.4, v1.4.5, v5.4.0, v5.4.1, v5.4.2, v7.6.2, v7.9.1\n",
      "vercel/next.js 1.1.1, 1.1.2, 2.1.1, 2.2.0, 2.4.4, 3.0.2, 3.2.3, 4.1.2, v8.0.4, v9.3.0\n",
      "laravel/laravel v3.0.4, v3.2.5, v4.0.5, v5.1.1, v5.2.27, v5.3.0, v5.4.23, v5.4.3, v5.6.21, v6.2.0\n",
      "XX-net/XX-Net 1.13.6, 1.3.6, 3.10.8, 3.11.9, 3.14.2, 3.6.3, 3.6.9, 3.8.0, 3.8.2, 4.3.0\n",
      "CocoaPods/CocoaPods 0.0.7, 0.16.0, 0.22.3, 0.3.0, 0.3.1, 0.35.0, 0.38.2, 0.5.0, 1.7.1, 1.7.5\n",
      "microsoft/TypeScript v1.8.7, v2.1.4, v2.1.5, v2.4.1, v2.5.3, v2.6.0, v2.7.1, v2.7.2, v3.2.1, v3.7.4\n"
     ]
    }
   ],
   "source": [
    "for project, release_names in tests.items():\n",
    "    print(project, \", \".join(sorted(release_names)))"
   ]
  },
  {
   "cell_type": "code",
   "execution_count": 52,
   "id": "51591913-1027-4c15-8d49-663979ed6ea5",
   "metadata": {},
   "outputs": [],
   "source": [
    "results = {}\n",
    "for project, release_names in tests.items():\n",
    "    results[project] = {}\n",
    "    for name in release_names:        \n",
    "        baseline_commits_file = f\"../data/rsamples/{project.replace('/', '-')}-{name}.releasy\"\n",
    "        manual_commits_file = f\"../data/rsamples/{project.replace('/', '-')}-{name}.commits\"\n",
    "        results[project][name] = !diff $baseline_commits_file $manual_commits_file"
   ]
  },
  {
   "cell_type": "code",
   "execution_count": 53,
   "id": "5e260087-5354-44ce-954c-422b3f18a3a7",
   "metadata": {},
   "outputs": [
    {
     "data": {
      "text/plain": [
       "{'tmux/tmux': {'2.4': [],\n",
       "  '2.6': [],\n",
       "  '1.2': [],\n",
       "  '1.0': [],\n",
       "  '1.5': [],\n",
       "  '0.8': [],\n",
       "  '2.3': [],\n",
       "  '1.1': [],\n",
       "  '3.0': [],\n",
       "  '1.3': []},\n",
       " 'MaterialDesignInXAML/MaterialDesignInXamlToolkit': {'v2.3.0': [],\n",
       "  'v3.2.0': [],\n",
       "  'v3.0.0': [],\n",
       "  'v2.1.0': [],\n",
       "  'v2.2.0': [],\n",
       "  '2.6.0': [],\n",
       "  '3.1.1': [],\n",
       "  'v1.5.0': [],\n",
       "  'v3.1.3': [],\n",
       "  'v2.0.0': []},\n",
       " 'electron/electron': {'v0.10.4': [],\n",
       "  'v6.0.0': [],\n",
       "  'v4.0.5': [],\n",
       "  'v4.2.0': [],\n",
       "  'v0.15.5': [],\n",
       "  'v8.0.3': [],\n",
       "  'v1.6.2': [],\n",
       "  'v0.32.0': [],\n",
       "  'v0.11.7': [],\n",
       "  'v0.20.2': []},\n",
       " 'v2ray/v2ray-core': {'v0.14.1': [],\n",
       "  'v2.19': [],\n",
       "  'v4.20.0': [],\n",
       "  'v0.13': [],\n",
       "  'v1.14': [],\n",
       "  'v4.16.1': [],\n",
       "  'v3.30': [],\n",
       "  'v2.20': [],\n",
       "  'v0.6.1': [],\n",
       "  'v2.16.4': []},\n",
       " 'elastic/elasticsearch': {'v0.90.9': [],\n",
       "  'v0.90.6': [],\n",
       "  'v5.4.2': [],\n",
       "  'v1.4.4': [],\n",
       "  'v5.4.0': [],\n",
       "  'v1.4.5': [],\n",
       "  'v7.6.2': [],\n",
       "  'v0.90.3': [],\n",
       "  'v7.9.1': [],\n",
       "  'v5.4.1': []},\n",
       " 'vercel/next.js': {'3.0.2': [],\n",
       "  '3.2.3': [],\n",
       "  'v8.0.4': [],\n",
       "  '2.4.4': [],\n",
       "  'v9.3.0': [],\n",
       "  '1.1.1': [],\n",
       "  '2.2.0': [],\n",
       "  '1.1.2': [],\n",
       "  '2.1.1': [],\n",
       "  '4.1.2': []},\n",
       " 'laravel/laravel': {'v5.6.21': [],\n",
       "  'v5.4.23': [],\n",
       "  'v3.2.5': [],\n",
       "  'v4.0.5': [],\n",
       "  'v6.2.0': [],\n",
       "  'v3.0.4': [],\n",
       "  'v5.1.1': [],\n",
       "  'v5.4.3': [],\n",
       "  'v5.2.27': [],\n",
       "  'v5.3.0': []},\n",
       " 'XX-net/XX-Net': {'3.6.3': [],\n",
       "  '1.3.6': [],\n",
       "  '3.11.9': [],\n",
       "  '3.8.2': [],\n",
       "  '3.10.8': [],\n",
       "  '3.8.0': [],\n",
       "  '1.13.6': [],\n",
       "  '4.3.0': [],\n",
       "  '3.6.9': [],\n",
       "  '3.14.2': []},\n",
       " 'CocoaPods/CocoaPods': {'0.22.3': [],\n",
       "  '1.7.5': [],\n",
       "  '0.3.0': [],\n",
       "  '0.3.1': [],\n",
       "  '0.0.7': [],\n",
       "  '1.7.1': [],\n",
       "  '0.38.2': [],\n",
       "  '0.5.0': [],\n",
       "  '0.16.0': [],\n",
       "  '0.35.0': []},\n",
       " 'microsoft/TypeScript': {'v2.6.0': [],\n",
       "  'v2.1.4': [],\n",
       "  'v2.4.1': [],\n",
       "  'v2.1.5': [],\n",
       "  'v2.5.3': [],\n",
       "  'v3.7.4': [],\n",
       "  'v2.7.2': [],\n",
       "  'v2.7.1': [],\n",
       "  'v1.8.7': [],\n",
       "  'v3.2.1': []}}"
      ]
     },
     "execution_count": 53,
     "metadata": {},
     "output_type": "execute_result"
    }
   ],
   "source": [
    "results"
   ]
  },
  {
   "cell_type": "code",
   "execution_count": null,
   "id": "09a5a5fd-3313-4e64-ab35-a64e5cfcc184",
   "metadata": {},
   "outputs": [],
   "source": []
  }
 ],
 "metadata": {
  "kernelspec": {
   "display_name": "Python 3 (ipykernel)",
   "language": "python",
   "name": "python3"
  },
  "language_info": {
   "codemirror_mode": {
    "name": "ipython",
    "version": 3
   },
   "file_extension": ".py",
   "mimetype": "text/x-python",
   "name": "python",
   "nbconvert_exporter": "python",
   "pygments_lexer": "ipython3",
   "version": "3.9.13"
  }
 },
 "nbformat": 4,
 "nbformat_minor": 5
}
